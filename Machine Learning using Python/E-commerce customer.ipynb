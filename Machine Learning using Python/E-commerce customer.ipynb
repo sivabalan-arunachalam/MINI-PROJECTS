{
 "cells": [
  {
   "attachments": {},
   "cell_type": "markdown",
   "metadata": {},
   "source": [
    "Load the Standard Libraries"
   ]
  },
  {
   "cell_type": "code",
   "execution_count": 2,
   "metadata": {},
   "outputs": [],
   "source": [
    "import numpy as np\n",
    "import pandas as pd\n",
    "import matplotlib.pyplot as plt\n",
    "import seaborn as sns\n",
    "from sklearn.model_selection import train_test_split\n",
    "from sklearn.cluster import KMeans\n",
    "from sklearn.preprocessing import LabelEncoder\n",
    "pd.set_option('display.max_columns',None)\n",
    "from sklearn.metrics import silhouette_score"
   ]
  },
  {
   "attachments": {},
   "cell_type": "markdown",
   "metadata": {},
   "source": [
    "Load the Dataset"
   ]
  },
  {
   "cell_type": "code",
   "execution_count": 3,
   "metadata": {},
   "outputs": [],
   "source": [
    "df=pd.read_excel('cust_data.xlsx')"
   ]
  },
  {
   "attachments": {},
   "cell_type": "markdown",
   "metadata": {},
   "source": [
    "Audit the data"
   ]
  },
  {
   "cell_type": "code",
   "execution_count": 4,
   "metadata": {},
   "outputs": [
    {
     "name": "stdout",
     "output_type": "stream",
     "text": [
      "<class 'pandas.core.frame.DataFrame'>\n",
      "RangeIndex: 30000 entries, 0 to 29999\n",
      "Data columns (total 38 columns):\n",
      " #   Column                  Non-Null Count  Dtype \n",
      "---  ------                  --------------  ----- \n",
      " 0   Cust_ID                 30000 non-null  int64 \n",
      " 1   Gender                  27276 non-null  object\n",
      " 2   Orders                  30000 non-null  int64 \n",
      " 3   Jordan                  30000 non-null  int64 \n",
      " 4   Gatorade                30000 non-null  int64 \n",
      " 5   Samsung                 30000 non-null  int64 \n",
      " 6   Asus                    30000 non-null  int64 \n",
      " 7   Udis                    30000 non-null  int64 \n",
      " 8   Mondelez International  30000 non-null  int64 \n",
      " 9   Wrangler                30000 non-null  int64 \n",
      " 10  Vans                    30000 non-null  int64 \n",
      " 11  Fila                    30000 non-null  int64 \n",
      " 12  Brooks                  30000 non-null  int64 \n",
      " 13  H&M                     30000 non-null  int64 \n",
      " 14  Dairy Queen             30000 non-null  int64 \n",
      " 15  Fendi                   30000 non-null  int64 \n",
      " 16  Hewlett Packard         30000 non-null  int64 \n",
      " 17  Pladis                  30000 non-null  int64 \n",
      " 18  Asics                   30000 non-null  int64 \n",
      " 19  Siemens                 30000 non-null  int64 \n",
      " 20  J.M. Smucker            30000 non-null  int64 \n",
      " 21  Pop Chips               30000 non-null  int64 \n",
      " 22  Juniper                 30000 non-null  int64 \n",
      " 23  Huawei                  30000 non-null  int64 \n",
      " 24  Compaq                  30000 non-null  int64 \n",
      " 25  IBM                     30000 non-null  int64 \n",
      " 26  Burberry                30000 non-null  int64 \n",
      " 27  Mi                      30000 non-null  int64 \n",
      " 28  LG                      30000 non-null  int64 \n",
      " 29  Dior                    30000 non-null  int64 \n",
      " 30  Scabal                  30000 non-null  int64 \n",
      " 31  Tommy Hilfiger          30000 non-null  int64 \n",
      " 32  Hollister               30000 non-null  int64 \n",
      " 33  Forever 21              30000 non-null  int64 \n",
      " 34  Colavita                30000 non-null  int64 \n",
      " 35  Microsoft               30000 non-null  int64 \n",
      " 36  Jiffy mix               30000 non-null  int64 \n",
      " 37  Kraft                   30000 non-null  int64 \n",
      "dtypes: int64(37), object(1)\n",
      "memory usage: 8.7+ MB\n"
     ]
    }
   ],
   "source": [
    "df.info()"
   ]
  },
  {
   "attachments": {},
   "cell_type": "markdown",
   "metadata": {},
   "source": [
    "Imputing Missing values of gender column"
   ]
  },
  {
   "cell_type": "code",
   "execution_count": 5,
   "metadata": {},
   "outputs": [],
   "source": [
    "df['Gender'].fillna(df['Gender'].mode()[0],inplace=True)"
   ]
  },
  {
   "cell_type": "code",
   "execution_count": 6,
   "metadata": {},
   "outputs": [
    {
     "data": {
      "text/html": [
       "<div>\n",
       "<style scoped>\n",
       "    .dataframe tbody tr th:only-of-type {\n",
       "        vertical-align: middle;\n",
       "    }\n",
       "\n",
       "    .dataframe tbody tr th {\n",
       "        vertical-align: top;\n",
       "    }\n",
       "\n",
       "    .dataframe thead th {\n",
       "        text-align: right;\n",
       "    }\n",
       "</style>\n",
       "<table border=\"1\" class=\"dataframe\">\n",
       "  <thead>\n",
       "    <tr style=\"text-align: right;\">\n",
       "      <th></th>\n",
       "      <th>Cust_ID</th>\n",
       "      <th>Orders</th>\n",
       "      <th>Jordan</th>\n",
       "      <th>Gatorade</th>\n",
       "      <th>Samsung</th>\n",
       "      <th>Asus</th>\n",
       "      <th>Udis</th>\n",
       "      <th>Mondelez International</th>\n",
       "      <th>Wrangler</th>\n",
       "      <th>Vans</th>\n",
       "      <th>Fila</th>\n",
       "      <th>Brooks</th>\n",
       "      <th>H&amp;M</th>\n",
       "      <th>Dairy Queen</th>\n",
       "      <th>Fendi</th>\n",
       "      <th>Hewlett Packard</th>\n",
       "      <th>Pladis</th>\n",
       "      <th>Asics</th>\n",
       "      <th>Siemens</th>\n",
       "      <th>J.M. Smucker</th>\n",
       "      <th>Pop Chips</th>\n",
       "      <th>Juniper</th>\n",
       "      <th>Huawei</th>\n",
       "      <th>Compaq</th>\n",
       "      <th>IBM</th>\n",
       "      <th>Burberry</th>\n",
       "      <th>Mi</th>\n",
       "      <th>LG</th>\n",
       "      <th>Dior</th>\n",
       "      <th>Scabal</th>\n",
       "      <th>Tommy Hilfiger</th>\n",
       "      <th>Hollister</th>\n",
       "      <th>Forever 21</th>\n",
       "      <th>Colavita</th>\n",
       "      <th>Microsoft</th>\n",
       "      <th>Jiffy mix</th>\n",
       "      <th>Kraft</th>\n",
       "    </tr>\n",
       "  </thead>\n",
       "  <tbody>\n",
       "    <tr>\n",
       "      <th>count</th>\n",
       "      <td>30000.000000</td>\n",
       "      <td>30000.000000</td>\n",
       "      <td>30000.000000</td>\n",
       "      <td>30000.000000</td>\n",
       "      <td>30000.000000</td>\n",
       "      <td>30000.000000</td>\n",
       "      <td>30000.000000</td>\n",
       "      <td>30000.000000</td>\n",
       "      <td>30000.000000</td>\n",
       "      <td>30000.000000</td>\n",
       "      <td>30000.000000</td>\n",
       "      <td>30000.000000</td>\n",
       "      <td>30000.000000</td>\n",
       "      <td>30000.000000</td>\n",
       "      <td>30000.000000</td>\n",
       "      <td>30000.000000</td>\n",
       "      <td>30000.000000</td>\n",
       "      <td>30000.000000</td>\n",
       "      <td>30000.000000</td>\n",
       "      <td>30000.000000</td>\n",
       "      <td>30000.000000</td>\n",
       "      <td>30000.000000</td>\n",
       "      <td>30000.000000</td>\n",
       "      <td>30000.000000</td>\n",
       "      <td>30000.000000</td>\n",
       "      <td>30000.000000</td>\n",
       "      <td>30000.000000</td>\n",
       "      <td>30000.000000</td>\n",
       "      <td>30000.000000</td>\n",
       "      <td>30000.000000</td>\n",
       "      <td>30000.000000</td>\n",
       "      <td>30000.000000</td>\n",
       "      <td>30000.000000</td>\n",
       "      <td>30000.000000</td>\n",
       "      <td>30000.000000</td>\n",
       "      <td>30000.000000</td>\n",
       "      <td>30000.000000</td>\n",
       "    </tr>\n",
       "    <tr>\n",
       "      <th>mean</th>\n",
       "      <td>15000.500000</td>\n",
       "      <td>4.169800</td>\n",
       "      <td>0.267433</td>\n",
       "      <td>0.252333</td>\n",
       "      <td>0.222933</td>\n",
       "      <td>0.161333</td>\n",
       "      <td>0.143533</td>\n",
       "      <td>0.139767</td>\n",
       "      <td>0.106933</td>\n",
       "      <td>0.111433</td>\n",
       "      <td>0.094267</td>\n",
       "      <td>0.140133</td>\n",
       "      <td>0.328200</td>\n",
       "      <td>0.209333</td>\n",
       "      <td>0.141467</td>\n",
       "      <td>0.161100</td>\n",
       "      <td>0.106100</td>\n",
       "      <td>0.300233</td>\n",
       "      <td>0.048067</td>\n",
       "      <td>0.754800</td>\n",
       "      <td>0.247900</td>\n",
       "      <td>0.470833</td>\n",
       "      <td>0.258000</td>\n",
       "      <td>0.118767</td>\n",
       "      <td>0.031967</td>\n",
       "      <td>0.428033</td>\n",
       "      <td>0.121333</td>\n",
       "      <td>0.102533</td>\n",
       "      <td>0.271133</td>\n",
       "      <td>0.370067</td>\n",
       "      <td>0.158967</td>\n",
       "      <td>0.077667</td>\n",
       "      <td>0.057333</td>\n",
       "      <td>0.192200</td>\n",
       "      <td>0.116367</td>\n",
       "      <td>0.088033</td>\n",
       "      <td>0.070900</td>\n",
       "    </tr>\n",
       "    <tr>\n",
       "      <th>std</th>\n",
       "      <td>8660.398374</td>\n",
       "      <td>3.590311</td>\n",
       "      <td>0.804778</td>\n",
       "      <td>0.705368</td>\n",
       "      <td>0.917494</td>\n",
       "      <td>0.740038</td>\n",
       "      <td>0.641258</td>\n",
       "      <td>0.525840</td>\n",
       "      <td>0.515921</td>\n",
       "      <td>0.547990</td>\n",
       "      <td>0.531592</td>\n",
       "      <td>0.471278</td>\n",
       "      <td>0.807655</td>\n",
       "      <td>1.116820</td>\n",
       "      <td>0.529210</td>\n",
       "      <td>0.604835</td>\n",
       "      <td>0.516512</td>\n",
       "      <td>1.119167</td>\n",
       "      <td>0.338763</td>\n",
       "      <td>1.262166</td>\n",
       "      <td>0.724106</td>\n",
       "      <td>1.346159</td>\n",
       "      <td>0.848288</td>\n",
       "      <td>0.597612</td>\n",
       "      <td>0.264475</td>\n",
       "      <td>1.098876</td>\n",
       "      <td>0.478977</td>\n",
       "      <td>0.486376</td>\n",
       "      <td>0.714682</td>\n",
       "      <td>0.758465</td>\n",
       "      <td>0.510527</td>\n",
       "      <td>0.383370</td>\n",
       "      <td>0.300082</td>\n",
       "      <td>0.641306</td>\n",
       "      <td>0.446578</td>\n",
       "      <td>0.399277</td>\n",
       "      <td>0.387915</td>\n",
       "    </tr>\n",
       "    <tr>\n",
       "      <th>min</th>\n",
       "      <td>1.000000</td>\n",
       "      <td>0.000000</td>\n",
       "      <td>0.000000</td>\n",
       "      <td>0.000000</td>\n",
       "      <td>0.000000</td>\n",
       "      <td>0.000000</td>\n",
       "      <td>0.000000</td>\n",
       "      <td>0.000000</td>\n",
       "      <td>0.000000</td>\n",
       "      <td>0.000000</td>\n",
       "      <td>0.000000</td>\n",
       "      <td>0.000000</td>\n",
       "      <td>0.000000</td>\n",
       "      <td>0.000000</td>\n",
       "      <td>0.000000</td>\n",
       "      <td>0.000000</td>\n",
       "      <td>0.000000</td>\n",
       "      <td>0.000000</td>\n",
       "      <td>0.000000</td>\n",
       "      <td>0.000000</td>\n",
       "      <td>0.000000</td>\n",
       "      <td>0.000000</td>\n",
       "      <td>0.000000</td>\n",
       "      <td>0.000000</td>\n",
       "      <td>0.000000</td>\n",
       "      <td>0.000000</td>\n",
       "      <td>0.000000</td>\n",
       "      <td>0.000000</td>\n",
       "      <td>0.000000</td>\n",
       "      <td>0.000000</td>\n",
       "      <td>0.000000</td>\n",
       "      <td>0.000000</td>\n",
       "      <td>0.000000</td>\n",
       "      <td>0.000000</td>\n",
       "      <td>0.000000</td>\n",
       "      <td>0.000000</td>\n",
       "      <td>0.000000</td>\n",
       "    </tr>\n",
       "    <tr>\n",
       "      <th>25%</th>\n",
       "      <td>7500.750000</td>\n",
       "      <td>1.000000</td>\n",
       "      <td>0.000000</td>\n",
       "      <td>0.000000</td>\n",
       "      <td>0.000000</td>\n",
       "      <td>0.000000</td>\n",
       "      <td>0.000000</td>\n",
       "      <td>0.000000</td>\n",
       "      <td>0.000000</td>\n",
       "      <td>0.000000</td>\n",
       "      <td>0.000000</td>\n",
       "      <td>0.000000</td>\n",
       "      <td>0.000000</td>\n",
       "      <td>0.000000</td>\n",
       "      <td>0.000000</td>\n",
       "      <td>0.000000</td>\n",
       "      <td>0.000000</td>\n",
       "      <td>0.000000</td>\n",
       "      <td>0.000000</td>\n",
       "      <td>0.000000</td>\n",
       "      <td>0.000000</td>\n",
       "      <td>0.000000</td>\n",
       "      <td>0.000000</td>\n",
       "      <td>0.000000</td>\n",
       "      <td>0.000000</td>\n",
       "      <td>0.000000</td>\n",
       "      <td>0.000000</td>\n",
       "      <td>0.000000</td>\n",
       "      <td>0.000000</td>\n",
       "      <td>0.000000</td>\n",
       "      <td>0.000000</td>\n",
       "      <td>0.000000</td>\n",
       "      <td>0.000000</td>\n",
       "      <td>0.000000</td>\n",
       "      <td>0.000000</td>\n",
       "      <td>0.000000</td>\n",
       "      <td>0.000000</td>\n",
       "    </tr>\n",
       "    <tr>\n",
       "      <th>50%</th>\n",
       "      <td>15000.500000</td>\n",
       "      <td>4.000000</td>\n",
       "      <td>0.000000</td>\n",
       "      <td>0.000000</td>\n",
       "      <td>0.000000</td>\n",
       "      <td>0.000000</td>\n",
       "      <td>0.000000</td>\n",
       "      <td>0.000000</td>\n",
       "      <td>0.000000</td>\n",
       "      <td>0.000000</td>\n",
       "      <td>0.000000</td>\n",
       "      <td>0.000000</td>\n",
       "      <td>0.000000</td>\n",
       "      <td>0.000000</td>\n",
       "      <td>0.000000</td>\n",
       "      <td>0.000000</td>\n",
       "      <td>0.000000</td>\n",
       "      <td>0.000000</td>\n",
       "      <td>0.000000</td>\n",
       "      <td>0.000000</td>\n",
       "      <td>0.000000</td>\n",
       "      <td>0.000000</td>\n",
       "      <td>0.000000</td>\n",
       "      <td>0.000000</td>\n",
       "      <td>0.000000</td>\n",
       "      <td>0.000000</td>\n",
       "      <td>0.000000</td>\n",
       "      <td>0.000000</td>\n",
       "      <td>0.000000</td>\n",
       "      <td>0.000000</td>\n",
       "      <td>0.000000</td>\n",
       "      <td>0.000000</td>\n",
       "      <td>0.000000</td>\n",
       "      <td>0.000000</td>\n",
       "      <td>0.000000</td>\n",
       "      <td>0.000000</td>\n",
       "      <td>0.000000</td>\n",
       "    </tr>\n",
       "    <tr>\n",
       "      <th>75%</th>\n",
       "      <td>22500.250000</td>\n",
       "      <td>7.000000</td>\n",
       "      <td>0.000000</td>\n",
       "      <td>0.000000</td>\n",
       "      <td>0.000000</td>\n",
       "      <td>0.000000</td>\n",
       "      <td>0.000000</td>\n",
       "      <td>0.000000</td>\n",
       "      <td>0.000000</td>\n",
       "      <td>0.000000</td>\n",
       "      <td>0.000000</td>\n",
       "      <td>0.000000</td>\n",
       "      <td>0.000000</td>\n",
       "      <td>0.000000</td>\n",
       "      <td>0.000000</td>\n",
       "      <td>0.000000</td>\n",
       "      <td>0.000000</td>\n",
       "      <td>0.000000</td>\n",
       "      <td>0.000000</td>\n",
       "      <td>1.000000</td>\n",
       "      <td>0.000000</td>\n",
       "      <td>1.000000</td>\n",
       "      <td>0.000000</td>\n",
       "      <td>0.000000</td>\n",
       "      <td>0.000000</td>\n",
       "      <td>0.000000</td>\n",
       "      <td>0.000000</td>\n",
       "      <td>0.000000</td>\n",
       "      <td>0.000000</td>\n",
       "      <td>1.000000</td>\n",
       "      <td>0.000000</td>\n",
       "      <td>0.000000</td>\n",
       "      <td>0.000000</td>\n",
       "      <td>0.000000</td>\n",
       "      <td>0.000000</td>\n",
       "      <td>0.000000</td>\n",
       "      <td>0.000000</td>\n",
       "    </tr>\n",
       "    <tr>\n",
       "      <th>max</th>\n",
       "      <td>30000.000000</td>\n",
       "      <td>12.000000</td>\n",
       "      <td>24.000000</td>\n",
       "      <td>15.000000</td>\n",
       "      <td>27.000000</td>\n",
       "      <td>17.000000</td>\n",
       "      <td>14.000000</td>\n",
       "      <td>31.000000</td>\n",
       "      <td>9.000000</td>\n",
       "      <td>16.000000</td>\n",
       "      <td>15.000000</td>\n",
       "      <td>12.000000</td>\n",
       "      <td>18.000000</td>\n",
       "      <td>114.000000</td>\n",
       "      <td>18.000000</td>\n",
       "      <td>10.000000</td>\n",
       "      <td>26.000000</td>\n",
       "      <td>66.000000</td>\n",
       "      <td>11.000000</td>\n",
       "      <td>64.000000</td>\n",
       "      <td>21.000000</td>\n",
       "      <td>79.000000</td>\n",
       "      <td>44.000000</td>\n",
       "      <td>30.000000</td>\n",
       "      <td>11.000000</td>\n",
       "      <td>37.000000</td>\n",
       "      <td>9.000000</td>\n",
       "      <td>19.000000</td>\n",
       "      <td>12.000000</td>\n",
       "      <td>11.000000</td>\n",
       "      <td>8.000000</td>\n",
       "      <td>9.000000</td>\n",
       "      <td>8.000000</td>\n",
       "      <td>22.000000</td>\n",
       "      <td>14.000000</td>\n",
       "      <td>8.000000</td>\n",
       "      <td>16.000000</td>\n",
       "    </tr>\n",
       "  </tbody>\n",
       "</table>\n",
       "</div>"
      ],
      "text/plain": [
       "            Cust_ID        Orders        Jordan      Gatorade       Samsung  \\\n",
       "count  30000.000000  30000.000000  30000.000000  30000.000000  30000.000000   \n",
       "mean   15000.500000      4.169800      0.267433      0.252333      0.222933   \n",
       "std     8660.398374      3.590311      0.804778      0.705368      0.917494   \n",
       "min        1.000000      0.000000      0.000000      0.000000      0.000000   \n",
       "25%     7500.750000      1.000000      0.000000      0.000000      0.000000   \n",
       "50%    15000.500000      4.000000      0.000000      0.000000      0.000000   \n",
       "75%    22500.250000      7.000000      0.000000      0.000000      0.000000   \n",
       "max    30000.000000     12.000000     24.000000     15.000000     27.000000   \n",
       "\n",
       "               Asus          Udis  Mondelez International      Wrangler  \\\n",
       "count  30000.000000  30000.000000            30000.000000  30000.000000   \n",
       "mean       0.161333      0.143533                0.139767      0.106933   \n",
       "std        0.740038      0.641258                0.525840      0.515921   \n",
       "min        0.000000      0.000000                0.000000      0.000000   \n",
       "25%        0.000000      0.000000                0.000000      0.000000   \n",
       "50%        0.000000      0.000000                0.000000      0.000000   \n",
       "75%        0.000000      0.000000                0.000000      0.000000   \n",
       "max       17.000000     14.000000               31.000000      9.000000   \n",
       "\n",
       "               Vans          Fila        Brooks           H&M   Dairy Queen  \\\n",
       "count  30000.000000  30000.000000  30000.000000  30000.000000  30000.000000   \n",
       "mean       0.111433      0.094267      0.140133      0.328200      0.209333   \n",
       "std        0.547990      0.531592      0.471278      0.807655      1.116820   \n",
       "min        0.000000      0.000000      0.000000      0.000000      0.000000   \n",
       "25%        0.000000      0.000000      0.000000      0.000000      0.000000   \n",
       "50%        0.000000      0.000000      0.000000      0.000000      0.000000   \n",
       "75%        0.000000      0.000000      0.000000      0.000000      0.000000   \n",
       "max       16.000000     15.000000     12.000000     18.000000    114.000000   \n",
       "\n",
       "              Fendi  Hewlett Packard        Pladis         Asics  \\\n",
       "count  30000.000000     30000.000000  30000.000000  30000.000000   \n",
       "mean       0.141467         0.161100      0.106100      0.300233   \n",
       "std        0.529210         0.604835      0.516512      1.119167   \n",
       "min        0.000000         0.000000      0.000000      0.000000   \n",
       "25%        0.000000         0.000000      0.000000      0.000000   \n",
       "50%        0.000000         0.000000      0.000000      0.000000   \n",
       "75%        0.000000         0.000000      0.000000      0.000000   \n",
       "max       18.000000        10.000000     26.000000     66.000000   \n",
       "\n",
       "            Siemens  J.M. Smucker     Pop Chips       Juniper        Huawei  \\\n",
       "count  30000.000000  30000.000000  30000.000000  30000.000000  30000.000000   \n",
       "mean       0.048067      0.754800      0.247900      0.470833      0.258000   \n",
       "std        0.338763      1.262166      0.724106      1.346159      0.848288   \n",
       "min        0.000000      0.000000      0.000000      0.000000      0.000000   \n",
       "25%        0.000000      0.000000      0.000000      0.000000      0.000000   \n",
       "50%        0.000000      0.000000      0.000000      0.000000      0.000000   \n",
       "75%        0.000000      1.000000      0.000000      1.000000      0.000000   \n",
       "max       11.000000     64.000000     21.000000     79.000000     44.000000   \n",
       "\n",
       "             Compaq           IBM      Burberry            Mi            LG  \\\n",
       "count  30000.000000  30000.000000  30000.000000  30000.000000  30000.000000   \n",
       "mean       0.118767      0.031967      0.428033      0.121333      0.102533   \n",
       "std        0.597612      0.264475      1.098876      0.478977      0.486376   \n",
       "min        0.000000      0.000000      0.000000      0.000000      0.000000   \n",
       "25%        0.000000      0.000000      0.000000      0.000000      0.000000   \n",
       "50%        0.000000      0.000000      0.000000      0.000000      0.000000   \n",
       "75%        0.000000      0.000000      0.000000      0.000000      0.000000   \n",
       "max       30.000000     11.000000     37.000000      9.000000     19.000000   \n",
       "\n",
       "               Dior        Scabal  Tommy Hilfiger     Hollister    Forever 21  \\\n",
       "count  30000.000000  30000.000000    30000.000000  30000.000000  30000.000000   \n",
       "mean       0.271133      0.370067        0.158967      0.077667      0.057333   \n",
       "std        0.714682      0.758465        0.510527      0.383370      0.300082   \n",
       "min        0.000000      0.000000        0.000000      0.000000      0.000000   \n",
       "25%        0.000000      0.000000        0.000000      0.000000      0.000000   \n",
       "50%        0.000000      0.000000        0.000000      0.000000      0.000000   \n",
       "75%        0.000000      1.000000        0.000000      0.000000      0.000000   \n",
       "max       12.000000     11.000000        8.000000      9.000000      8.000000   \n",
       "\n",
       "           Colavita     Microsoft     Jiffy mix         Kraft  \n",
       "count  30000.000000  30000.000000  30000.000000  30000.000000  \n",
       "mean       0.192200      0.116367      0.088033      0.070900  \n",
       "std        0.641306      0.446578      0.399277      0.387915  \n",
       "min        0.000000      0.000000      0.000000      0.000000  \n",
       "25%        0.000000      0.000000      0.000000      0.000000  \n",
       "50%        0.000000      0.000000      0.000000      0.000000  \n",
       "75%        0.000000      0.000000      0.000000      0.000000  \n",
       "max       22.000000     14.000000      8.000000     16.000000  "
      ]
     },
     "execution_count": 6,
     "metadata": {},
     "output_type": "execute_result"
    }
   ],
   "source": [
    "df.describe()"
   ]
  },
  {
   "cell_type": "code",
   "execution_count": 7,
   "metadata": {},
   "outputs": [
    {
     "name": "stderr",
     "output_type": "stream",
     "text": [
      "c:\\ProgramData\\Anaconda3\\lib\\site-packages\\seaborn\\_decorators.py:36: FutureWarning: Pass the following variable as a keyword arg: x. From version 0.12, the only valid positional argument will be `data`, and passing other arguments without an explicit keyword will result in an error or misinterpretation.\n",
      "  warnings.warn(\n"
     ]
    },
    {
     "data": {
      "text/plain": [
       "<AxesSubplot:xlabel='Jordan', ylabel='count'>"
      ]
     },
     "execution_count": 7,
     "metadata": {},
     "output_type": "execute_result"
    },
    {
     "data": {
      "image/png": "[encoded data removed]",
      "text/plain": [
       "<Figure size 640x480 with 1 Axes>"
      ]
     },
     "metadata": {},
     "output_type": "display_data"
    }
   ],
   "source": [
    "sns.countplot(df['Jordan'])"
   ]
  },
  {
   "attachments": {},
   "cell_type": "markdown",
   "metadata": {},
   "source": [
    "Enconde the Gender Varaible"
   ]
  },
  {
   "cell_type": "code",
   "execution_count": 8,
   "metadata": {},
   "outputs": [
    {
     "data": {
      "text/plain": [
       "0    24778\n",
       "1     5222\n",
       "Name: Gender, dtype: int64"
      ]
     },
     "execution_count": 8,
     "metadata": {},
     "output_type": "execute_result"
    }
   ],
   "source": [
    "le=LabelEncoder()\n",
    "df['Gender']=le.fit_transform(df['Gender'])\n",
    "df['Gender'].value_counts()"
   ]
  },
  {
   "attachments": {},
   "cell_type": "markdown",
   "metadata": {},
   "source": [
    "Dropping Cust_ID as this is an unwanted column"
   ]
  },
  {
   "cell_type": "code",
   "execution_count": 9,
   "metadata": {},
   "outputs": [],
   "source": [
    "df.drop(['Cust_ID'],axis=1,inplace=True)"
   ]
  },
  {
   "cell_type": "code",
   "execution_count": 10,
   "metadata": {},
   "outputs": [
    {
     "data": {
      "text/plain": [
       "<AxesSubplot:>"
      ]
     },
     "execution_count": 10,
     "metadata": {},
     "output_type": "execute_result"
    },
    {
     "data": {
      "image/png": "[encoded data removed]",
      "text/plain": [
       "<Figure size 640x480 with 1 Axes>"
      ]
     },
     "metadata": {},
     "output_type": "display_data"
    }
   ],
   "source": [
    "df.boxplot()"
   ]
  },
  {
   "cell_type": "code",
   "execution_count": 16,
   "metadata": {},
   "outputs": [
    {
     "name": "stdout",
     "output_type": "stream",
     "text": [
      "[922806.4653666655, 620898.7650530624, 572554.5446585139, 547370.1854614178, 527577.4221609904, 511498.2713697104, 496830.609038693, 484982.5398608239, 476494.1639304159, 466308.8681752997, 459082.17694855115, 449228.2168521189, 444538.2551317929, 436436.00926354615, 430684.9069271759, 425155.1230223688, 418297.2063566903, 414580.75436559564, 410511.5559152952, 405855.0283986301]\n"
     ]
    }
   ],
   "source": [
    "wcss=[]\n",
    "for i in range(1,21):\n",
    "    kn=KMeans(n_clusters=i)\n",
    "    kn.fit(df)\n",
    "    wcss.append(kn.inertia_)\n",
    "print(wcss)"
   ]
  },
  {
   "cell_type": "code",
   "execution_count": 20,
   "metadata": {},
   "outputs": [
    {
     "data": {
      "image/png": "[encoded data removed]",
      "text/plain": [
       "<Figure size 640x480 with 1 Axes>"
      ]
     },
     "metadata": {},
     "output_type": "display_data"
    }
   ],
   "source": [
    "plt.plot(range(1,21),wcss)\n",
    "plt.xlabel('Number of clusters')\n",
    "plt.ylabel('WCSS')\n",
    "plt.grid()\n",
    "plt.show()"
   ]
  },
  {
   "cell_type": "code",
   "execution_count": 15,
   "metadata": {},
   "outputs": [
    {
     "data": {
      "text/plain": [
       "KMeans(n_clusters=3)"
      ]
     },
     "execution_count": 15,
     "metadata": {},
     "output_type": "execute_result"
    }
   ],
   "source": [
    "kmeans=KMeans(n_clusters=3)\n",
    "kmeans.fit(df)"
   ]
  },
  {
   "cell_type": "code",
   "execution_count": 16,
   "metadata": {},
   "outputs": [],
   "source": [
    "df['Cluster']=kmeans.labels_"
   ]
  },
  {
   "cell_type": "code",
   "execution_count": 17,
   "metadata": {},
   "outputs": [
    {
     "name": "stderr",
     "output_type": "stream",
     "text": [
      "c:\\ProgramData\\Anaconda3\\lib\\site-packages\\seaborn\\_decorators.py:36: FutureWarning: Pass the following variable as a keyword arg: x. From version 0.12, the only valid positional argument will be `data`, and passing other arguments without an explicit keyword will result in an error or misinterpretation.\n",
      "  warnings.warn(\n"
     ]
    },
    {
     "data": {
      "text/plain": [
       "<AxesSubplot:xlabel='Cluster', ylabel='count'>"
      ]
     },
     "execution_count": 17,
     "metadata": {},
     "output_type": "execute_result"
    },
    {
     "data": {
      "image/png": "[encoded data removed]",
      "text/plain": [
       "<Figure size 640x480 with 1 Axes>"
      ]
     },
     "metadata": {},
     "output_type": "display_data"
    }
   ],
   "source": [
    "sns.countplot(df['Cluster'])"
   ]
  },
  {
   "cell_type": "code",
   "execution_count": 18,
   "metadata": {},
   "outputs": [
    {
     "name": "stdout",
     "output_type": "stream",
     "text": [
      "0.20423577841504406\n"
     ]
    }
   ],
   "source": [
    "print(silhouette_score(df.iloc[:,0:-1],labels=df['Cluster']))"
   ]
  },
  {
   "cell_type": "code",
   "execution_count": 32,
   "metadata": {},
   "outputs": [
    {
     "data": {
      "text/plain": [
       "Cluster\n",
       "0    35740\n",
       "1      854\n",
       "2    62715\n",
       "3     2521\n",
       "4     1771\n",
       "5    18910\n",
       "6     2583\n",
       "Name: Orders, dtype: int64"
      ]
     },
     "execution_count": 32,
     "metadata": {},
     "output_type": "execute_result"
    }
   ],
   "source": [
    "df.groupby(by=df['Cluster'])['Orders'].sum()"
   ]
  },
  {
   "cell_type": "code",
   "execution_count": 33,
   "metadata": {},
   "outputs": [
    {
     "data": {
      "text/html": [
       "<div>\n",
       "<style scoped>\n",
       "    .dataframe tbody tr th:only-of-type {\n",
       "        vertical-align: middle;\n",
       "    }\n",
       "\n",
       "    .dataframe tbody tr th {\n",
       "        vertical-align: top;\n",
       "    }\n",
       "\n",
       "    .dataframe thead th {\n",
       "        text-align: right;\n",
       "    }\n",
       "</style>\n",
       "<table border=\"1\" class=\"dataframe\">\n",
       "  <thead>\n",
       "    <tr style=\"text-align: right;\">\n",
       "      <th>Gender</th>\n",
       "      <th>0</th>\n",
       "      <th>1</th>\n",
       "    </tr>\n",
       "    <tr>\n",
       "      <th>Cluster</th>\n",
       "      <th></th>\n",
       "      <th></th>\n",
       "    </tr>\n",
       "  </thead>\n",
       "  <tbody>\n",
       "    <tr>\n",
       "      <th>0</th>\n",
       "      <td>4848</td>\n",
       "      <td>1068</td>\n",
       "    </tr>\n",
       "    <tr>\n",
       "      <th>1</th>\n",
       "      <td>176</td>\n",
       "      <td>46</td>\n",
       "    </tr>\n",
       "    <tr>\n",
       "      <th>2</th>\n",
       "      <td>5489</td>\n",
       "      <td>1242</td>\n",
       "    </tr>\n",
       "    <tr>\n",
       "      <th>3</th>\n",
       "      <td>704</td>\n",
       "      <td>50</td>\n",
       "    </tr>\n",
       "    <tr>\n",
       "      <th>4</th>\n",
       "      <td>294</td>\n",
       "      <td>88</td>\n",
       "    </tr>\n",
       "    <tr>\n",
       "      <th>5</th>\n",
       "      <td>5247</td>\n",
       "      <td>1138</td>\n",
       "    </tr>\n",
       "    <tr>\n",
       "      <th>6</th>\n",
       "      <td>8020</td>\n",
       "      <td>1590</td>\n",
       "    </tr>\n",
       "  </tbody>\n",
       "</table>\n",
       "</div>"
      ],
      "text/plain": [
       "Gender      0     1\n",
       "Cluster            \n",
       "0        4848  1068\n",
       "1         176    46\n",
       "2        5489  1242\n",
       "3         704    50\n",
       "4         294    88\n",
       "5        5247  1138\n",
       "6        8020  1590"
      ]
     },
     "execution_count": 33,
     "metadata": {},
     "output_type": "execute_result"
    }
   ],
   "source": [
    "pd.crosstab(df['Cluster'],df['Gender'])"
   ]
  },
  {
   "cell_type": "code",
   "execution_count": null,
   "metadata": {},
   "outputs": [],
   "source": []
  }
 ],
 "metadata": {
  "kernelspec": {
   "display_name": "base",
   "language": "python",
   "name": "python3"
  },
  "language_info": {
   "codemirror_mode": {
    "name": "ipython",
    "version": 3
   },
   "file_extension": ".py",
   "mimetype": "text/x-python",
   "name": "python",
   "nbconvert_exporter": "python",
   "pygments_lexer": "ipython3",
   "version": "3.9.13"
  },
  "orig_nbformat": 4
 },
 "nbformat": 4,
 "nbformat_minor": 2
}
